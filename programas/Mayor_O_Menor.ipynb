{
 "cells": [
  {
   "cell_type": "code",
   "execution_count": 1,
   "metadata": {},
   "outputs": [
    {
     "name": "stdout",
     "output_type": "stream",
     "text": [
      "dame un numero\n",
      "dame otro numero\n",
      "2,el primero numero es mayor que 1,el segundo numero\n"
     ]
    }
   ],
   "source": [
    "N1 = int(input(\"dame un numero\"))\n",
    "print (N1)\n",
    "N2 = int(input(print(\"dame otro numero\")))\n",
    "print (N2)\n",
    "if N1>N2:\n",
    " print(str(N1)+\",el primero numero\"+\" \"+\"es mayor que\"+\" \"+str(N2)+\",el segundo numero\")\n",
    "elif N1==N2:\n",
    " print(\"ambos numeros son iguales\")\n",
    "else:\n",
    " print (str(N2)+\",el segundo numero\"+\" \"+\"es mayor que\"+\" \"+str(N1)+\",el segundo numero\")"
   ]
  }
 ],
 "metadata": {
  "kernelspec": {
   "display_name": "Python 3",
   "language": "python",
   "name": "python3"
  },
  "language_info": {
   "codemirror_mode": {
    "name": "ipython",
    "version": 3
   },
   "file_extension": ".py",
   "mimetype": "text/x-python",
   "name": "python",
   "nbconvert_exporter": "python",
   "pygments_lexer": "ipython3",
   "version": "3.10.13"
  }
 },
 "nbformat": 4,
 "nbformat_minor": 2
}
