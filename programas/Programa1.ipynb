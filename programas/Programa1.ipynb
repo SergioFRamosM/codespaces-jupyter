{
 "cells": [
  {
   "cell_type": "code",
   "execution_count": 1,
   "metadata": {},
   "outputs": [
    {
     "name": "stdout",
     "output_type": "stream",
     "text": [
      "¿cual es tu edad?\n",
      "0\n",
      "calculando\n",
      "eres menor de edad\n"
     ]
    }
   ],
   "source": [
    "import time\n",
    "Edad = int(input(print(\"¿cual es tu edad?\")))\n",
    "print (Edad)\n",
    "\n",
    "time.sleep(.5)\n",
    "print(\"calculando\")\n",
    "time.sleep(1.5)\n",
    "\n",
    "if Edad>=18:\n",
    " print(\"eres mayor de edad\")\n",
    "else:\n",
    " print(\"eres menor de edad\")"
   ]
  }
 ],
 "metadata": {
  "kernelspec": {
   "display_name": "Python 3",
   "language": "python",
   "name": "python3"
  },
  "language_info": {
   "codemirror_mode": {
    "name": "ipython",
    "version": 3
   },
   "file_extension": ".py",
   "mimetype": "text/x-python",
   "name": "python",
   "nbconvert_exporter": "python",
   "pygments_lexer": "ipython3",
   "version": "3.10.13"
  }
 },
 "nbformat": 4,
 "nbformat_minor": 2
}
