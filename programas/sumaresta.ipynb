{
 "cells": [
  {
   "cell_type": "code",
   "execution_count": 2,
   "metadata": {},
   "outputs": [
    {
     "name": "stdout",
     "output_type": "stream",
     "text": [
      "dame un numero\n",
      "2\n",
      "dame otro numero\n",
      "8\n",
      "el prducto de ambos numeros es de 16\n"
     ]
    }
   ],
   "source": [
    "N1 = int(input(print(\"dame un numero\")))\n",
    "print (N1)\n",
    "N2 = int(input(print(\"dame otro numero\")))\n",
    "print (N2)\n",
    "if N1>N2:\n",
    " Suma = (int(N1 + N2))\n",
    " print (\"la suma de los numeros es igual a \"+str(Suma))\n",
    "else:\n",
    " Mult = (int(N1*N2))\n",
    " print (\"el prducto de ambos numeros es de \" + str(Mult))\n"
   ]
  }
 ],
 "metadata": {
  "kernelspec": {
   "display_name": "Python 3",
   "language": "python",
   "name": "python3"
  },
  "language_info": {
   "codemirror_mode": {
    "name": "ipython",
    "version": 3
   },
   "file_extension": ".py",
   "mimetype": "text/x-python",
   "name": "python",
   "nbconvert_exporter": "python",
   "pygments_lexer": "ipython3",
   "version": "3.10.13"
  }
 },
 "nbformat": 4,
 "nbformat_minor": 2
}
