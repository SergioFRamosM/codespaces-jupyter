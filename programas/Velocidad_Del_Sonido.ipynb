{
 "cells": [
  {
   "cell_type": "code",
   "execution_count": 3,
   "metadata": {},
   "outputs": [
    {
     "name": "stdout",
     "output_type": "stream",
     "text": [
      "Dame la distancia en metros\n",
      "el sonido recorrera esa distancia en 0.025947521865889212 segundos\n"
     ]
    }
   ],
   "source": [
    "Vel= int(343)\n",
    "Dist = float(input(print(\"Dame la distancia en metros\")))\n",
    "tiempo = Dist/Vel\n",
    "print(\"el sonido recorrera esa distancia en \"+str(tiempo)+\" \"+\"segundos\")\n"
   ]
  }
 ],
 "metadata": {
  "kernelspec": {
   "display_name": "Python 3",
   "language": "python",
   "name": "python3"
  },
  "language_info": {
   "codemirror_mode": {
    "name": "ipython",
    "version": 3
   },
   "file_extension": ".py",
   "mimetype": "text/x-python",
   "name": "python",
   "nbconvert_exporter": "python",
   "pygments_lexer": "ipython3",
   "version": "3.10.13"
  }
 },
 "nbformat": 4,
 "nbformat_minor": 2
}
