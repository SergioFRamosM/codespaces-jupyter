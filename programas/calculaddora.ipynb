{
 "cells": [
  {
   "cell_type": "code",
   "execution_count": 15,
   "metadata": {},
   "outputs": [
    {
     "name": "stdout",
     "output_type": "stream",
     "text": [
      "1.0\n",
      "2.0\n",
      "1. summa\n",
      "2. resta\n",
      "3. multiplicación\n",
      "4. división\n",
      "0.5\n"
     ]
    }
   ],
   "source": [
    "N1= float(input(\"Dame un numero\"))\n",
    "print (str(N1))\n",
    "N2= float(input(\"dame otro numero\"))\n",
    "print (str(N2))\n",
    "print (\"1. summa\")\n",
    "print (\"2. resta\")\n",
    "print (\"3. multiplicación\")\n",
    "print (\"4. división\")\n",
    "Tipo_de_calculo = float(input(\" selecciona el numero de la operacion que quieres\"))\n",
    "if Tipo_de_calculo == 1:\n",
    " resultado = N1 + N2 \n",
    " print (str(resultado))\n",
    "if Tipo_de_calculo == 2:\n",
    " resultado = N1 - N2 \n",
    " print (str(resultado))\n",
    "if Tipo_de_calculo == 3:\n",
    " resultado = N1 * N2 \n",
    " print (str(resultado))\n",
    "if Tipo_de_calculo == 4:\n",
    " resultado = N1 / N2 \n",
    " print (str(resultado))\n"
   ]
  }
 ],
 "metadata": {
  "kernelspec": {
   "display_name": "Python 3",
   "language": "python",
   "name": "python3"
  },
  "language_info": {
   "codemirror_mode": {
    "name": "ipython",
    "version": 3
   },
   "file_extension": ".py",
   "mimetype": "text/x-python",
   "name": "python",
   "nbconvert_exporter": "python",
   "pygments_lexer": "ipython3",
   "version": "3.10.13"
  }
 },
 "nbformat": 4,
 "nbformat_minor": 2
}
